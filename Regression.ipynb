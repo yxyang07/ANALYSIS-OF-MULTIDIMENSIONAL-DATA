{
 "cells": [
  {
   "cell_type": "markdown",
   "metadata": {},
   "source": [
    "# Coronary Heart Disease Prediction Using Supervised Learning Techniques\n",
    " \n",
    "In this Notebook, i will predict the risk of Chronic Heart Disease Using diffrent regression techniques. \n",
    "The Following would be performed in this notebook: \n",
    "\n",
    "- Data Cleaning: Checking for missing data, detecting outliers and arranging the data properly \n",
    "- Data Visualization: Using different explanatory variables, i will visualize this data in order to understand it better. \n",
    "- Standardize and categorize my data by preprocessing it. \n",
    "- Prediction using Linear Regression.\n",
    "- Checking for the Root mean square by using different Regression Techniques. \n"
   ]
  },
  {
   "cell_type": "code",
   "execution_count": 1,
   "metadata": {},
   "outputs": [],
   "source": [
    "#Importing all the required libraries.\n",
    "\n",
    "import pandas as pd\n",
    "import numpy as np\n",
    "import matplotlib.pyplot as plt\n",
    "import seaborn as sns"
   ]
  },
  {
   "cell_type": "code",
   "execution_count": 2,
   "metadata": {},
   "outputs": [
    {
     "data": {
      "text/html": [
       "<div>\n",
       "<style scoped>\n",
       "    .dataframe tbody tr th:only-of-type {\n",
       "        vertical-align: middle;\n",
       "    }\n",
       "\n",
       "    .dataframe tbody tr th {\n",
       "        vertical-align: top;\n",
       "    }\n",
       "\n",
       "    .dataframe thead th {\n",
       "        text-align: right;\n",
       "    }\n",
       "</style>\n",
       "<table border=\"1\" class=\"dataframe\">\n",
       "  <thead>\n",
       "    <tr style=\"text-align: right;\">\n",
       "      <th></th>\n",
       "      <th>male</th>\n",
       "      <th>age</th>\n",
       "      <th>education</th>\n",
       "      <th>currentSmoker</th>\n",
       "      <th>cigsPerDay</th>\n",
       "      <th>BPMeds</th>\n",
       "      <th>prevalentStroke</th>\n",
       "      <th>prevalentHyp</th>\n",
       "      <th>diabetes</th>\n",
       "      <th>totChol</th>\n",
       "      <th>sysBP</th>\n",
       "      <th>diaBP</th>\n",
       "      <th>BMI</th>\n",
       "      <th>heartRate</th>\n",
       "      <th>glucose</th>\n",
       "      <th>TenYearCHD</th>\n",
       "    </tr>\n",
       "  </thead>\n",
       "  <tbody>\n",
       "    <tr>\n",
       "      <th>0</th>\n",
       "      <td>1</td>\n",
       "      <td>39</td>\n",
       "      <td>4.0</td>\n",
       "      <td>0</td>\n",
       "      <td>0.0</td>\n",
       "      <td>0.0</td>\n",
       "      <td>0</td>\n",
       "      <td>0</td>\n",
       "      <td>0</td>\n",
       "      <td>195.0</td>\n",
       "      <td>106.0</td>\n",
       "      <td>70.0</td>\n",
       "      <td>26.97</td>\n",
       "      <td>80.0</td>\n",
       "      <td>77.0</td>\n",
       "      <td>0</td>\n",
       "    </tr>\n",
       "    <tr>\n",
       "      <th>1</th>\n",
       "      <td>0</td>\n",
       "      <td>46</td>\n",
       "      <td>2.0</td>\n",
       "      <td>0</td>\n",
       "      <td>0.0</td>\n",
       "      <td>0.0</td>\n",
       "      <td>0</td>\n",
       "      <td>0</td>\n",
       "      <td>0</td>\n",
       "      <td>250.0</td>\n",
       "      <td>121.0</td>\n",
       "      <td>81.0</td>\n",
       "      <td>28.73</td>\n",
       "      <td>95.0</td>\n",
       "      <td>76.0</td>\n",
       "      <td>0</td>\n",
       "    </tr>\n",
       "    <tr>\n",
       "      <th>2</th>\n",
       "      <td>1</td>\n",
       "      <td>48</td>\n",
       "      <td>1.0</td>\n",
       "      <td>1</td>\n",
       "      <td>20.0</td>\n",
       "      <td>0.0</td>\n",
       "      <td>0</td>\n",
       "      <td>0</td>\n",
       "      <td>0</td>\n",
       "      <td>245.0</td>\n",
       "      <td>127.5</td>\n",
       "      <td>80.0</td>\n",
       "      <td>25.34</td>\n",
       "      <td>75.0</td>\n",
       "      <td>70.0</td>\n",
       "      <td>0</td>\n",
       "    </tr>\n",
       "    <tr>\n",
       "      <th>3</th>\n",
       "      <td>0</td>\n",
       "      <td>61</td>\n",
       "      <td>3.0</td>\n",
       "      <td>1</td>\n",
       "      <td>30.0</td>\n",
       "      <td>0.0</td>\n",
       "      <td>0</td>\n",
       "      <td>1</td>\n",
       "      <td>0</td>\n",
       "      <td>225.0</td>\n",
       "      <td>150.0</td>\n",
       "      <td>95.0</td>\n",
       "      <td>28.58</td>\n",
       "      <td>65.0</td>\n",
       "      <td>103.0</td>\n",
       "      <td>1</td>\n",
       "    </tr>\n",
       "    <tr>\n",
       "      <th>4</th>\n",
       "      <td>0</td>\n",
       "      <td>46</td>\n",
       "      <td>3.0</td>\n",
       "      <td>1</td>\n",
       "      <td>23.0</td>\n",
       "      <td>0.0</td>\n",
       "      <td>0</td>\n",
       "      <td>0</td>\n",
       "      <td>0</td>\n",
       "      <td>285.0</td>\n",
       "      <td>130.0</td>\n",
       "      <td>84.0</td>\n",
       "      <td>23.10</td>\n",
       "      <td>85.0</td>\n",
       "      <td>85.0</td>\n",
       "      <td>0</td>\n",
       "    </tr>\n",
       "    <tr>\n",
       "      <th>...</th>\n",
       "      <td>...</td>\n",
       "      <td>...</td>\n",
       "      <td>...</td>\n",
       "      <td>...</td>\n",
       "      <td>...</td>\n",
       "      <td>...</td>\n",
       "      <td>...</td>\n",
       "      <td>...</td>\n",
       "      <td>...</td>\n",
       "      <td>...</td>\n",
       "      <td>...</td>\n",
       "      <td>...</td>\n",
       "      <td>...</td>\n",
       "      <td>...</td>\n",
       "      <td>...</td>\n",
       "      <td>...</td>\n",
       "    </tr>\n",
       "    <tr>\n",
       "      <th>4233</th>\n",
       "      <td>1</td>\n",
       "      <td>50</td>\n",
       "      <td>1.0</td>\n",
       "      <td>1</td>\n",
       "      <td>1.0</td>\n",
       "      <td>0.0</td>\n",
       "      <td>0</td>\n",
       "      <td>1</td>\n",
       "      <td>0</td>\n",
       "      <td>313.0</td>\n",
       "      <td>179.0</td>\n",
       "      <td>92.0</td>\n",
       "      <td>25.97</td>\n",
       "      <td>66.0</td>\n",
       "      <td>86.0</td>\n",
       "      <td>1</td>\n",
       "    </tr>\n",
       "    <tr>\n",
       "      <th>4234</th>\n",
       "      <td>1</td>\n",
       "      <td>51</td>\n",
       "      <td>3.0</td>\n",
       "      <td>1</td>\n",
       "      <td>43.0</td>\n",
       "      <td>0.0</td>\n",
       "      <td>0</td>\n",
       "      <td>0</td>\n",
       "      <td>0</td>\n",
       "      <td>207.0</td>\n",
       "      <td>126.5</td>\n",
       "      <td>80.0</td>\n",
       "      <td>19.71</td>\n",
       "      <td>65.0</td>\n",
       "      <td>68.0</td>\n",
       "      <td>0</td>\n",
       "    </tr>\n",
       "    <tr>\n",
       "      <th>4235</th>\n",
       "      <td>0</td>\n",
       "      <td>48</td>\n",
       "      <td>2.0</td>\n",
       "      <td>1</td>\n",
       "      <td>20.0</td>\n",
       "      <td>NaN</td>\n",
       "      <td>0</td>\n",
       "      <td>0</td>\n",
       "      <td>0</td>\n",
       "      <td>248.0</td>\n",
       "      <td>131.0</td>\n",
       "      <td>72.0</td>\n",
       "      <td>22.00</td>\n",
       "      <td>84.0</td>\n",
       "      <td>86.0</td>\n",
       "      <td>0</td>\n",
       "    </tr>\n",
       "    <tr>\n",
       "      <th>4236</th>\n",
       "      <td>0</td>\n",
       "      <td>44</td>\n",
       "      <td>1.0</td>\n",
       "      <td>1</td>\n",
       "      <td>15.0</td>\n",
       "      <td>0.0</td>\n",
       "      <td>0</td>\n",
       "      <td>0</td>\n",
       "      <td>0</td>\n",
       "      <td>210.0</td>\n",
       "      <td>126.5</td>\n",
       "      <td>87.0</td>\n",
       "      <td>19.16</td>\n",
       "      <td>86.0</td>\n",
       "      <td>NaN</td>\n",
       "      <td>0</td>\n",
       "    </tr>\n",
       "    <tr>\n",
       "      <th>4237</th>\n",
       "      <td>0</td>\n",
       "      <td>52</td>\n",
       "      <td>2.0</td>\n",
       "      <td>0</td>\n",
       "      <td>0.0</td>\n",
       "      <td>0.0</td>\n",
       "      <td>0</td>\n",
       "      <td>0</td>\n",
       "      <td>0</td>\n",
       "      <td>269.0</td>\n",
       "      <td>133.5</td>\n",
       "      <td>83.0</td>\n",
       "      <td>21.47</td>\n",
       "      <td>80.0</td>\n",
       "      <td>107.0</td>\n",
       "      <td>0</td>\n",
       "    </tr>\n",
       "  </tbody>\n",
       "</table>\n",
       "<p>4238 rows × 16 columns</p>\n",
       "</div>"
      ],
      "text/plain": [
       "      male  age  education  currentSmoker  cigsPerDay  BPMeds  \\\n",
       "0        1   39        4.0              0         0.0     0.0   \n",
       "1        0   46        2.0              0         0.0     0.0   \n",
       "2        1   48        1.0              1        20.0     0.0   \n",
       "3        0   61        3.0              1        30.0     0.0   \n",
       "4        0   46        3.0              1        23.0     0.0   \n",
       "...    ...  ...        ...            ...         ...     ...   \n",
       "4233     1   50        1.0              1         1.0     0.0   \n",
       "4234     1   51        3.0              1        43.0     0.0   \n",
       "4235     0   48        2.0              1        20.0     NaN   \n",
       "4236     0   44        1.0              1        15.0     0.0   \n",
       "4237     0   52        2.0              0         0.0     0.0   \n",
       "\n",
       "      prevalentStroke  prevalentHyp  diabetes  totChol  sysBP  diaBP    BMI  \\\n",
       "0                   0             0         0    195.0  106.0   70.0  26.97   \n",
       "1                   0             0         0    250.0  121.0   81.0  28.73   \n",
       "2                   0             0         0    245.0  127.5   80.0  25.34   \n",
       "3                   0             1         0    225.0  150.0   95.0  28.58   \n",
       "4                   0             0         0    285.0  130.0   84.0  23.10   \n",
       "...               ...           ...       ...      ...    ...    ...    ...   \n",
       "4233                0             1         0    313.0  179.0   92.0  25.97   \n",
       "4234                0             0         0    207.0  126.5   80.0  19.71   \n",
       "4235                0             0         0    248.0  131.0   72.0  22.00   \n",
       "4236                0             0         0    210.0  126.5   87.0  19.16   \n",
       "4237                0             0         0    269.0  133.5   83.0  21.47   \n",
       "\n",
       "      heartRate  glucose  TenYearCHD  \n",
       "0          80.0     77.0           0  \n",
       "1          95.0     76.0           0  \n",
       "2          75.0     70.0           0  \n",
       "3          65.0    103.0           1  \n",
       "4          85.0     85.0           0  \n",
       "...         ...      ...         ...  \n",
       "4233       66.0     86.0           1  \n",
       "4234       65.0     68.0           0  \n",
       "4235       84.0     86.0           0  \n",
       "4236       86.0      NaN           0  \n",
       "4237       80.0    107.0           0  \n",
       "\n",
       "[4238 rows x 16 columns]"
      ]
     },
     "execution_count": 2,
     "metadata": {},
     "output_type": "execute_result"
    }
   ],
   "source": [
    "#Loading the datasets\n",
    "\n",
    "df = pd.read_csv(\"C:/Users/asony/Desktop/Regression_ASONYE_Ajachukwu_Bliss_M1/heartdisease.csv\")\n",
    "df"
   ]
  },
  {
   "cell_type": "markdown",
   "metadata": {},
   "source": [
    "#  Cleaning The Data\n"
   ]
  },
  {
   "cell_type": "code",
   "execution_count": 3,
   "metadata": {},
   "outputs": [
    {
     "data": {
      "text/plain": [
       "male               False\n",
       "age                False\n",
       "education           True\n",
       "currentSmoker      False\n",
       "cigsPerDay          True\n",
       "BPMeds              True\n",
       "prevalentStroke    False\n",
       "prevalentHyp       False\n",
       "diabetes           False\n",
       "totChol             True\n",
       "sysBP              False\n",
       "diaBP              False\n",
       "BMI                 True\n",
       "heartRate           True\n",
       "glucose             True\n",
       "TenYearCHD         False\n",
       "dtype: bool"
      ]
     },
     "execution_count": 3,
     "metadata": {},
     "output_type": "execute_result"
    }
   ],
   "source": [
    "#Here, i will check if the dataset has missing values as NaN\n",
    "\n",
    "df.isnull().any()"
   ]
  },
  {
   "cell_type": "code",
   "execution_count": 4,
   "metadata": {},
   "outputs": [
    {
     "data": {
      "text/plain": [
       "count    4133.000000\n",
       "mean        1.978950\n",
       "std         1.019791\n",
       "min         1.000000\n",
       "25%         1.000000\n",
       "50%         2.000000\n",
       "75%         3.000000\n",
       "max         4.000000\n",
       "Name: education, dtype: float64"
      ]
     },
     "execution_count": 4,
     "metadata": {},
     "output_type": "execute_result"
    }
   ],
   "source": [
    "\n",
    "df['education'].describe()"
   ]
  },
  {
   "cell_type": "code",
   "execution_count": 5,
   "metadata": {},
   "outputs": [],
   "source": [
    "#filling the null values with mean = 1.9 ~ 2\n",
    "\n",
    "df['education']= df['education'].fillna(2)"
   ]
  },
  {
   "cell_type": "code",
   "execution_count": 6,
   "metadata": {},
   "outputs": [
    {
     "data": {
      "text/plain": [
       "count    4209.000000\n",
       "mean        9.003089\n",
       "std        11.920094\n",
       "min         0.000000\n",
       "25%         0.000000\n",
       "50%         0.000000\n",
       "75%        20.000000\n",
       "max        70.000000\n",
       "Name: cigsPerDay, dtype: float64"
      ]
     },
     "execution_count": 6,
     "metadata": {},
     "output_type": "execute_result"
    }
   ],
   "source": [
    "df['cigsPerDay'].describe()"
   ]
  },
  {
   "cell_type": "code",
   "execution_count": 7,
   "metadata": {},
   "outputs": [],
   "source": [
    "df['cigsPerDay'] = df['cigsPerDay'].fillna(df['cigsPerDay'].mean())"
   ]
  },
  {
   "cell_type": "code",
   "execution_count": 8,
   "metadata": {},
   "outputs": [
    {
     "data": {
      "text/plain": [
       "count    4185.000000\n",
       "mean        0.029630\n",
       "std         0.169584\n",
       "min         0.000000\n",
       "25%         0.000000\n",
       "50%         0.000000\n",
       "75%         0.000000\n",
       "max         1.000000\n",
       "Name: BPMeds, dtype: float64"
      ]
     },
     "execution_count": 8,
     "metadata": {},
     "output_type": "execute_result"
    }
   ],
   "source": [
    "df['BPMeds'].describe()"
   ]
  },
  {
   "cell_type": "code",
   "execution_count": 9,
   "metadata": {},
   "outputs": [],
   "source": [
    "df['BPMeds'] = df['BPMeds'].fillna(df['BPMeds'].mean())"
   ]
  },
  {
   "cell_type": "code",
   "execution_count": 10,
   "metadata": {},
   "outputs": [
    {
     "data": {
      "text/plain": [
       "count    4188.000000\n",
       "mean      236.721585\n",
       "std        44.590334\n",
       "min       107.000000\n",
       "25%       206.000000\n",
       "50%       234.000000\n",
       "75%       263.000000\n",
       "max       696.000000\n",
       "Name: totChol, dtype: float64"
      ]
     },
     "execution_count": 10,
     "metadata": {},
     "output_type": "execute_result"
    }
   ],
   "source": [
    "df['totChol'].describe()"
   ]
  },
  {
   "cell_type": "code",
   "execution_count": 11,
   "metadata": {},
   "outputs": [],
   "source": [
    "df['totChol']= df['totChol'].fillna(df['totChol'].mean())"
   ]
  },
  {
   "cell_type": "code",
   "execution_count": 12,
   "metadata": {},
   "outputs": [
    {
     "data": {
      "text/plain": [
       "count    4219.000000\n",
       "mean       25.802008\n",
       "std         4.080111\n",
       "min        15.540000\n",
       "25%        23.070000\n",
       "50%        25.400000\n",
       "75%        28.040000\n",
       "max        56.800000\n",
       "Name: BMI, dtype: float64"
      ]
     },
     "execution_count": 12,
     "metadata": {},
     "output_type": "execute_result"
    }
   ],
   "source": [
    "df['BMI'].describe()"
   ]
  },
  {
   "cell_type": "code",
   "execution_count": 13,
   "metadata": {},
   "outputs": [],
   "source": [
    "df['BMI']= df['BMI'].fillna(df['BMI'].mean())"
   ]
  },
  {
   "cell_type": "code",
   "execution_count": 14,
   "metadata": {},
   "outputs": [
    {
     "data": {
      "text/plain": [
       "count    4237.000000\n",
       "mean       75.878924\n",
       "std        12.026596\n",
       "min        44.000000\n",
       "25%        68.000000\n",
       "50%        75.000000\n",
       "75%        83.000000\n",
       "max       143.000000\n",
       "Name: heartRate, dtype: float64"
      ]
     },
     "execution_count": 14,
     "metadata": {},
     "output_type": "execute_result"
    }
   ],
   "source": [
    "df['heartRate'].describe()"
   ]
  },
  {
   "cell_type": "code",
   "execution_count": 15,
   "metadata": {},
   "outputs": [],
   "source": [
    "df['heartRate'] = df['heartRate'].fillna(df['heartRate'].mean())"
   ]
  },
  {
   "cell_type": "code",
   "execution_count": 16,
   "metadata": {},
   "outputs": [
    {
     "data": {
      "text/plain": [
       "count    3850.000000\n",
       "mean       81.966753\n",
       "std        23.959998\n",
       "min        40.000000\n",
       "25%        71.000000\n",
       "50%        78.000000\n",
       "75%        87.000000\n",
       "max       394.000000\n",
       "Name: glucose, dtype: float64"
      ]
     },
     "execution_count": 16,
     "metadata": {},
     "output_type": "execute_result"
    }
   ],
   "source": [
    "df['glucose'].describe()"
   ]
  },
  {
   "cell_type": "code",
   "execution_count": 17,
   "metadata": {},
   "outputs": [],
   "source": [
    "df['glucose'] = df['glucose'].fillna(df['glucose'].mean())"
   ]
  },
  {
   "cell_type": "code",
   "execution_count": 18,
   "metadata": {},
   "outputs": [
    {
     "data": {
      "text/plain": [
       "male               False\n",
       "age                False\n",
       "education          False\n",
       "currentSmoker      False\n",
       "cigsPerDay         False\n",
       "BPMeds             False\n",
       "prevalentStroke    False\n",
       "prevalentHyp       False\n",
       "diabetes           False\n",
       "totChol            False\n",
       "sysBP              False\n",
       "diaBP              False\n",
       "BMI                False\n",
       "heartRate          False\n",
       "glucose            False\n",
       "TenYearCHD         False\n",
       "dtype: bool"
      ]
     },
     "execution_count": 18,
     "metadata": {},
     "output_type": "execute_result"
    }
   ],
   "source": [
    "df.isnull().any()"
   ]
  },
  {
   "cell_type": "markdown",
   "metadata": {},
   "source": [
    "I can see that the Data is clean now so, i will go ahead to try and detect any outliers. "
   ]
  },
  {
   "cell_type": "markdown",
   "metadata": {},
   "source": [
    "# Detecting Outliers\n"
   ]
  },
  {
   "cell_type": "code",
   "execution_count": 19,
   "metadata": {},
   "outputs": [
    {
     "data": {
      "image/png": "[encoded data removed]",
      "text/plain": [
       "<Figure size 1080x432 with 2 Axes>"
      ]
     },
     "metadata": {
      "needs_background": "light"
     },
     "output_type": "display_data"
    }
   ],
   "source": [
    "#To detect the otliers using boxplot\n",
    "\n",
    "plt.figure(figsize=(15,6))\n",
    "plt.subplot(1,2,1)\n",
    "sns.boxplot(y=df[\"age\"], color=\"red\")\n",
    "plt.subplot(1,2,2)\n",
    "sns.boxplot(y=df[\"education\"])\n",
    "plt.show()\n"
   ]
  },
  {
   "cell_type": "markdown",
   "metadata": {},
   "source": []
  },
  {
   "cell_type": "markdown",
   "metadata": {},
   "source": [
    "# Explanatory Variables\n",
    "\n",
    "- Now, i will use different explanatory variables to visualize the data. \n",
    "\n",
    "# Visualizing the relationship between the age, cigsPerDay, totChol and  glucose"
   ]
  },
  {
   "cell_type": "code",
   "execution_count": 20,
   "metadata": {},
   "outputs": [
    {
     "data": {
      "text/plain": [
       "(array([-50.,   0.,  50., 100., 150., 200., 250., 300.]),\n",
       " <a list of 8 Text major ticklabel objects>)"
      ]
     },
     "execution_count": 20,
     "metadata": {},
     "output_type": "execute_result"
    },
    {
     "data": {
      "image/png": "[encoded data removed]",
      "text/plain": [
       "<Figure size 720x576 with 1 Axes>"
      ]
     },
     "metadata": {
      "needs_background": "light"
     },
     "output_type": "display_data"
    }
   ],
   "source": [
    "line1 = df.groupby('age').cigsPerDay.mean()\n",
    "line2 = df.groupby('age').totChol.mean()\n",
    "line3 = df.groupby('age').glucose.mean()\n",
    "\n",
    "plt.figure(figsize=(10,8))\n",
    "sns.lineplot(data = line1, label= 'cigsPerDay')\n",
    "sns.lineplot(data = line2, label= 'totChol')\n",
    "sns.lineplot(data = line3, label= 'glucose')\n",
    "plt.title('Cigrattes perday, Total Cholestrol and Glucose in every age group')\n",
    "plt.xlabel('Age', size =15)\n",
    "plt.ylabel('Count', size=15)\n",
    "plt.xticks(size=12)\n",
    "plt.yticks(size=12)"
   ]
  },
  {
   "cell_type": "markdown",
   "metadata": {},
   "source": [
    "From the graph above, we can notice that there is a minor relationship between the variables. "
   ]
  },
  {
   "cell_type": "markdown",
   "metadata": {},
   "source": [
    "# Higher risk of CHD lies in what gender? "
   ]
  },
  {
   "cell_type": "code",
   "execution_count": 21,
   "metadata": {
    "scrolled": true
   },
   "outputs": [
    {
     "data": {
      "text/html": [
       "<div>\n",
       "<style scoped>\n",
       "    .dataframe tbody tr th:only-of-type {\n",
       "        vertical-align: middle;\n",
       "    }\n",
       "\n",
       "    .dataframe tbody tr th {\n",
       "        vertical-align: top;\n",
       "    }\n",
       "\n",
       "    .dataframe thead th {\n",
       "        text-align: right;\n",
       "    }\n",
       "</style>\n",
       "<table border=\"1\" class=\"dataframe\">\n",
       "  <thead>\n",
       "    <tr style=\"text-align: right;\">\n",
       "      <th></th>\n",
       "      <th>male</th>\n",
       "      <th>TenYearCHD</th>\n",
       "    </tr>\n",
       "  </thead>\n",
       "  <tbody>\n",
       "    <tr>\n",
       "      <th>0</th>\n",
       "      <td>0</td>\n",
       "      <td>301</td>\n",
       "    </tr>\n",
       "    <tr>\n",
       "      <th>1</th>\n",
       "      <td>1</td>\n",
       "      <td>343</td>\n",
       "    </tr>\n",
       "  </tbody>\n",
       "</table>\n",
       "</div>"
      ],
      "text/plain": [
       "   male  TenYearCHD\n",
       "0     0         301\n",
       "1     1         343"
      ]
     },
     "execution_count": 21,
     "metadata": {},
     "output_type": "execute_result"
    }
   ],
   "source": [
    "#checking for which gender has more risk of coronary heart disease CHD\n",
    "\n",
    "graph= df.groupby(\"male\", as_index=False).TenYearCHD.sum()\n",
    "graph"
   ]
  },
  {
   "cell_type": "code",
   "execution_count": 22,
   "metadata": {},
   "outputs": [
    {
     "data": {
      "text/plain": [
       "(array([  0.,  50., 100., 150., 200., 250., 300., 350., 400.]),\n",
       " <a list of 9 Text major ticklabel objects>)"
      ]
     },
     "execution_count": 22,
     "metadata": {},
     "output_type": "execute_result"
    },
    {
     "data": {
      "image/png": "[encoded data removed]",
      "text/plain": [
       "<Figure size 720x432 with 1 Axes>"
      ]
     },
     "metadata": {
      "needs_background": "light"
     },
     "output_type": "display_data"
    }
   ],
   "source": [
    "plt.figure(figsize=(10,6))\n",
    "sns.set(style=\"whitegrid\")\n",
    "sns.barplot(x=graph['male'], y= graph['TenYearCHD'], palette=\"Blues_d\")\n",
    "plt.title('Risk of Coronary Heart Disease (CHD) by gender')\n",
    "plt.xlabel('Female  Male', size =15)\n",
    "plt.ylabel('TenYearCHD', size=15)\n",
    "plt.xticks(size=12)\n",
    "plt.yticks(size=12)"
   ]
  },
  {
   "cell_type": "markdown",
   "metadata": {},
   "source": [
    "Looking at this bar chart above, we can clearly see that its more likely for males to have the coronary heart disease than females"
   ]
  },
  {
   "cell_type": "markdown",
   "metadata": {},
   "source": [
    "# The higher percentage of smokers lies in what age group?"
   ]
  },
  {
   "cell_type": "code",
   "execution_count": 23,
   "metadata": {},
   "outputs": [
    {
     "data": {
      "text/html": [
       "<div>\n",
       "<style scoped>\n",
       "    .dataframe tbody tr th:only-of-type {\n",
       "        vertical-align: middle;\n",
       "    }\n",
       "\n",
       "    .dataframe tbody tr th {\n",
       "        vertical-align: top;\n",
       "    }\n",
       "\n",
       "    .dataframe thead th {\n",
       "        text-align: right;\n",
       "    }\n",
       "</style>\n",
       "<table border=\"1\" class=\"dataframe\">\n",
       "  <thead>\n",
       "    <tr style=\"text-align: right;\">\n",
       "      <th></th>\n",
       "      <th>age</th>\n",
       "      <th>currentSmoker</th>\n",
       "    </tr>\n",
       "  </thead>\n",
       "  <tbody>\n",
       "    <tr>\n",
       "      <th>0</th>\n",
       "      <td>32</td>\n",
       "      <td>1</td>\n",
       "    </tr>\n",
       "    <tr>\n",
       "      <th>1</th>\n",
       "      <td>33</td>\n",
       "      <td>2</td>\n",
       "    </tr>\n",
       "    <tr>\n",
       "      <th>2</th>\n",
       "      <td>34</td>\n",
       "      <td>11</td>\n",
       "    </tr>\n",
       "    <tr>\n",
       "      <th>3</th>\n",
       "      <td>35</td>\n",
       "      <td>23</td>\n",
       "    </tr>\n",
       "    <tr>\n",
       "      <th>4</th>\n",
       "      <td>36</td>\n",
       "      <td>47</td>\n",
       "    </tr>\n",
       "    <tr>\n",
       "      <th>5</th>\n",
       "      <td>37</td>\n",
       "      <td>56</td>\n",
       "    </tr>\n",
       "    <tr>\n",
       "      <th>6</th>\n",
       "      <td>38</td>\n",
       "      <td>88</td>\n",
       "    </tr>\n",
       "    <tr>\n",
       "      <th>7</th>\n",
       "      <td>39</td>\n",
       "      <td>98</td>\n",
       "    </tr>\n",
       "    <tr>\n",
       "      <th>8</th>\n",
       "      <td>40</td>\n",
       "      <td>121</td>\n",
       "    </tr>\n",
       "    <tr>\n",
       "      <th>9</th>\n",
       "      <td>41</td>\n",
       "      <td>102</td>\n",
       "    </tr>\n",
       "    <tr>\n",
       "      <th>10</th>\n",
       "      <td>42</td>\n",
       "      <td>110</td>\n",
       "    </tr>\n",
       "    <tr>\n",
       "      <th>11</th>\n",
       "      <td>43</td>\n",
       "      <td>99</td>\n",
       "    </tr>\n",
       "    <tr>\n",
       "      <th>12</th>\n",
       "      <td>44</td>\n",
       "      <td>103</td>\n",
       "    </tr>\n",
       "    <tr>\n",
       "      <th>13</th>\n",
       "      <td>45</td>\n",
       "      <td>96</td>\n",
       "    </tr>\n",
       "    <tr>\n",
       "      <th>14</th>\n",
       "      <td>46</td>\n",
       "      <td>105</td>\n",
       "    </tr>\n",
       "    <tr>\n",
       "      <th>15</th>\n",
       "      <td>47</td>\n",
       "      <td>89</td>\n",
       "    </tr>\n",
       "    <tr>\n",
       "      <th>16</th>\n",
       "      <td>48</td>\n",
       "      <td>88</td>\n",
       "    </tr>\n",
       "    <tr>\n",
       "      <th>17</th>\n",
       "      <td>49</td>\n",
       "      <td>71</td>\n",
       "    </tr>\n",
       "    <tr>\n",
       "      <th>18</th>\n",
       "      <td>50</td>\n",
       "      <td>73</td>\n",
       "    </tr>\n",
       "    <tr>\n",
       "      <th>19</th>\n",
       "      <td>51</td>\n",
       "      <td>76</td>\n",
       "    </tr>\n",
       "    <tr>\n",
       "      <th>20</th>\n",
       "      <td>52</td>\n",
       "      <td>58</td>\n",
       "    </tr>\n",
       "    <tr>\n",
       "      <th>21</th>\n",
       "      <td>53</td>\n",
       "      <td>59</td>\n",
       "    </tr>\n",
       "    <tr>\n",
       "      <th>22</th>\n",
       "      <td>54</td>\n",
       "      <td>52</td>\n",
       "    </tr>\n",
       "    <tr>\n",
       "      <th>23</th>\n",
       "      <td>55</td>\n",
       "      <td>50</td>\n",
       "    </tr>\n",
       "    <tr>\n",
       "      <th>24</th>\n",
       "      <td>56</td>\n",
       "      <td>55</td>\n",
       "    </tr>\n",
       "    <tr>\n",
       "      <th>25</th>\n",
       "      <td>57</td>\n",
       "      <td>51</td>\n",
       "    </tr>\n",
       "    <tr>\n",
       "      <th>26</th>\n",
       "      <td>58</td>\n",
       "      <td>53</td>\n",
       "    </tr>\n",
       "    <tr>\n",
       "      <th>27</th>\n",
       "      <td>59</td>\n",
       "      <td>43</td>\n",
       "    </tr>\n",
       "    <tr>\n",
       "      <th>28</th>\n",
       "      <td>60</td>\n",
       "      <td>41</td>\n",
       "    </tr>\n",
       "    <tr>\n",
       "      <th>29</th>\n",
       "      <td>61</td>\n",
       "      <td>36</td>\n",
       "    </tr>\n",
       "    <tr>\n",
       "      <th>30</th>\n",
       "      <td>62</td>\n",
       "      <td>30</td>\n",
       "    </tr>\n",
       "    <tr>\n",
       "      <th>31</th>\n",
       "      <td>63</td>\n",
       "      <td>33</td>\n",
       "    </tr>\n",
       "    <tr>\n",
       "      <th>32</th>\n",
       "      <td>64</td>\n",
       "      <td>27</td>\n",
       "    </tr>\n",
       "    <tr>\n",
       "      <th>33</th>\n",
       "      <td>65</td>\n",
       "      <td>12</td>\n",
       "    </tr>\n",
       "    <tr>\n",
       "      <th>34</th>\n",
       "      <td>66</td>\n",
       "      <td>10</td>\n",
       "    </tr>\n",
       "    <tr>\n",
       "      <th>35</th>\n",
       "      <td>67</td>\n",
       "      <td>16</td>\n",
       "    </tr>\n",
       "    <tr>\n",
       "      <th>36</th>\n",
       "      <td>68</td>\n",
       "      <td>6</td>\n",
       "    </tr>\n",
       "    <tr>\n",
       "      <th>37</th>\n",
       "      <td>69</td>\n",
       "      <td>3</td>\n",
       "    </tr>\n",
       "    <tr>\n",
       "      <th>38</th>\n",
       "      <td>70</td>\n",
       "      <td>0</td>\n",
       "    </tr>\n",
       "  </tbody>\n",
       "</table>\n",
       "</div>"
      ],
      "text/plain": [
       "    age  currentSmoker\n",
       "0    32              1\n",
       "1    33              2\n",
       "2    34             11\n",
       "3    35             23\n",
       "4    36             47\n",
       "5    37             56\n",
       "6    38             88\n",
       "7    39             98\n",
       "8    40            121\n",
       "9    41            102\n",
       "10   42            110\n",
       "11   43             99\n",
       "12   44            103\n",
       "13   45             96\n",
       "14   46            105\n",
       "15   47             89\n",
       "16   48             88\n",
       "17   49             71\n",
       "18   50             73\n",
       "19   51             76\n",
       "20   52             58\n",
       "21   53             59\n",
       "22   54             52\n",
       "23   55             50\n",
       "24   56             55\n",
       "25   57             51\n",
       "26   58             53\n",
       "27   59             43\n",
       "28   60             41\n",
       "29   61             36\n",
       "30   62             30\n",
       "31   63             33\n",
       "32   64             27\n",
       "33   65             12\n",
       "34   66             10\n",
       "35   67             16\n",
       "36   68              6\n",
       "37   69              3\n",
       "38   70              0"
      ]
     },
     "execution_count": 23,
     "metadata": {},
     "output_type": "execute_result"
    }
   ],
   "source": [
    "#checking for which age group has more risk of coronary heart disease CHD\n",
    "\n",
    "graph1= df.groupby(\"age\", as_index=False).currentSmoker.sum()\n",
    "graph1\n"
   ]
  },
  {
   "cell_type": "code",
   "execution_count": 24,
   "metadata": {},
   "outputs": [
    {
     "data": {
      "text/plain": [
       "(array([  0.,  20.,  40.,  60.,  80., 100., 120., 140.]),\n",
       " <a list of 8 Text major ticklabel objects>)"
      ]
     },
     "execution_count": 24,
     "metadata": {},
     "output_type": "execute_result"
    },
    {
     "data": {
      "image/png": "[encoded data removed]",
      "text/plain": [
       "<Figure size 864x576 with 1 Axes>"
      ]
     },
     "metadata": {},
     "output_type": "display_data"
    }
   ],
   "source": [
    "plt.figure(figsize=(12,8))\n",
    "sns.barplot(x=graph1['age'], y=graph1['currentSmoker'])\n",
    "plt.title('The age group with more smokers')\n",
    "plt.xlabel('Age', size=15)\n",
    "plt.ylabel('Total Smokers' , size=15)\n",
    "plt.xticks(size=12)\n",
    "plt.yticks(size=12)"
   ]
  },
  {
   "cell_type": "markdown",
   "metadata": {},
   "source": [
    "# Relationship between cigsPerDay and risk of coronary heart disease."
   ]
  },
  {
   "cell_type": "code",
   "execution_count": 25,
   "metadata": {},
   "outputs": [
    {
     "data": {
      "text/plain": [
       "(array([ 0.,  2.,  4.,  6.,  8., 10., 12.]),\n",
       " <a list of 7 Text major ticklabel objects>)"
      ]
     },
     "execution_count": 25,
     "metadata": {},
     "output_type": "execute_result"
    },
    {
     "data": {
      "image/png": "[encoded data removed]",
      "text/plain": [
       "<Figure size 720x432 with 1 Axes>"
      ]
     },
     "metadata": {},
     "output_type": "display_data"
    }
   ],
   "source": [
    "graph_2 = df.groupby(\"TenYearCHD\", as_index=False).cigsPerDay.mean()\n",
    "\n",
    "plt.figure(figsize=(10,6))\n",
    "sns.barplot(x=graph_2[\"TenYearCHD\"], y=graph_2[\"cigsPerDay\"], palette=\"rocket\")\n",
    "plt.title(\"Relationship between cigsPerDay and risk of coronary heart disease.\")\n",
    "plt.xlabel(\"Risk of CHD\", size=15)\n",
    "plt.ylabel(\"cigsPerDay\", size=15)\n",
    "plt.xticks(size=12)\n",
    "plt.yticks(size=12)"
   ]
  },
  {
   "cell_type": "markdown",
   "metadata": {},
   "source": [
    "So we see that, the higher the number of ciggarettes per day, the higher the risk of getting the coronary heart disease."
   ]
  },
  {
   "cell_type": "markdown",
   "metadata": {},
   "source": [
    "#  The Relationship between sysBP and risk of CHD."
   ]
  },
  {
   "cell_type": "code",
   "execution_count": 26,
   "metadata": {},
   "outputs": [
    {
     "data": {
      "text/plain": [
       "(array([  0.,  20.,  40.,  60.,  80., 100., 120., 140., 160.]),\n",
       " <a list of 9 Text major ticklabel objects>)"
      ]
     },
     "execution_count": 26,
     "metadata": {},
     "output_type": "execute_result"
    },
    {
     "data": {
      "image/png": "[encoded data removed]",
      "text/plain": [
       "<Figure size 720x432 with 1 Axes>"
      ]
     },
     "metadata": {},
     "output_type": "display_data"
    }
   ],
   "source": [
    "# Grouping up the data and ploting it\n",
    "\n",
    "graph_3 = df.groupby(\"TenYearCHD\", as_index=False).sysBP.mean()\n",
    "\n",
    "plt.figure(figsize=(10,6))\n",
    "sns.barplot(x=graph_3[\"TenYearCHD\"], y=graph_3[\"sysBP\"], palette=\"vlag\")\n",
    "plt.title(\"The relationship between sysBP and risk of CHD\")\n",
    "plt.xlabel(\"Risk of CHD\", size=15)\n",
    "plt.ylabel(\"sysBP\", size=15)\n",
    "plt.xticks(size=12)\n",
    "plt.yticks(size=12)"
   ]
  },
  {
   "cell_type": "markdown",
   "metadata": {},
   "source": [
    "# Relationship between diaBP and risk of CHD"
   ]
  },
  {
   "cell_type": "code",
   "execution_count": 27,
   "metadata": {},
   "outputs": [
    {
     "data": {
      "text/plain": [
       "(array([  0.,  20.,  40.,  60.,  80., 100.]),\n",
       " <a list of 6 Text major ticklabel objects>)"
      ]
     },
     "execution_count": 27,
     "metadata": {},
     "output_type": "execute_result"
    },
    {
     "data": {
      "image/png": "[encoded data removed]",
      "text/plain": [
       "<Figure size 576x432 with 1 Axes>"
      ]
     },
     "metadata": {},
     "output_type": "display_data"
    }
   ],
   "source": [
    "# Grouping up the data and ploting it\n",
    "\n",
    "graph_4 = df.groupby(\"TenYearCHD\", as_index=False).diaBP.mean()\n",
    "\n",
    "plt.figure(figsize=(8,6))\n",
    "sns.barplot(x=graph_4[\"TenYearCHD\"], y=graph_4[\"diaBP\"], palette=\"deep\")\n",
    "plt.title(\"Relationship between diaBP and risk of CHD\")\n",
    "plt.xlabel(\"Risk of CHD\", size=15)\n",
    "plt.ylabel(\"diaBP\", size=15)\n",
    "plt.xticks(size=12)\n",
    "plt.yticks(size=12)"
   ]
  },
  {
   "cell_type": "markdown",
   "metadata": {},
   "source": [
    "# Standardization and Preprocessing of the data"
   ]
  },
  {
   "cell_type": "code",
   "execution_count": 28,
   "metadata": {},
   "outputs": [
    {
     "data": {
      "text/plain": [
       "<matplotlib.axes._subplots.AxesSubplot at 0x1f42f6fff70>"
      ]
     },
     "execution_count": 28,
     "metadata": {},
     "output_type": "execute_result"
    },
    {
     "data": {
      "image/png": "[encoded data removed]",
      "text/plain": [
       "<Figure size 720x720 with 2 Axes>"
      ]
     },
     "metadata": {},
     "output_type": "display_data"
    }
   ],
   "source": [
    "# plotting the correlation plot for the dataset\n",
    "\n",
    "f, ax = plt.subplots(figsize = (10, 10))\n",
    "\n",
    "corr = df.corr()\n",
    "sns.heatmap(corr, mask = np.zeros_like(corr, dtype = np.bool), \n",
    "            cmap = sns.diverging_palette(50, 10, as_cmap = True), square = True, ax = ax)"
   ]
  },
  {
   "cell_type": "code",
   "execution_count": 29,
   "metadata": {},
   "outputs": [
    {
     "name": "stdout",
     "output_type": "stream",
     "text": [
      "(4238, 5)\n",
      "(4238,)\n"
     ]
    }
   ],
   "source": [
    "# splitting the dependent and independent variable\n",
    "\n",
    "x = df.iloc[:,:5]\n",
    "y = df.iloc[:,5]\n",
    "\n",
    "print(x.shape)\n",
    "print(y.shape)"
   ]
  },
  {
   "cell_type": "code",
   "execution_count": 30,
   "metadata": {},
   "outputs": [
    {
     "name": "stdout",
     "output_type": "stream",
     "text": [
      "(3390, 5)\n",
      "(848, 5)\n",
      "(3390,)\n",
      "(848,)\n"
     ]
    }
   ],
   "source": [
    "# splitting the dataset into training and testing sets\n",
    "\n",
    "from sklearn.model_selection import train_test_split\n",
    "\n",
    "x_train, x_test, y_train, y_test = train_test_split(x, y, test_size = 0.2, random_state = 30)\n",
    "\n",
    "print(x_train.shape)\n",
    "print(x_test.shape)\n",
    "print(y_train.shape)\n",
    "print(y_test.shape)"
   ]
  },
  {
   "cell_type": "code",
   "execution_count": 31,
   "metadata": {},
   "outputs": [],
   "source": [
    "# standard scaling\n",
    "\n",
    "from sklearn.preprocessing import StandardScaler\n",
    "\n",
    "# creating a standard scaler\n",
    "sc = StandardScaler()\n",
    "\n",
    "# feeding independents sets into the standard scaler\n",
    "x_train = sc.fit_transform(x_train)\n",
    "x_test = sc.fit_transform(x_test)\n"
   ]
  },
  {
   "cell_type": "markdown",
   "metadata": {},
   "source": [
    "# Regression\n",
    "\n",
    "I will be using Linear Regression first before going ahead to use other supervised learning techniques to reduce the root mean square error. "
   ]
  },
  {
   "cell_type": "code",
   "execution_count": 32,
   "metadata": {},
   "outputs": [
    {
     "name": "stdout",
     "output_type": "stream",
     "text": [
      "MSE : 0.030390753333681946\n",
      "RMSE : 0.17432943909071108\n",
      "r2 score : 0.013962174938813354\n"
     ]
    }
   ],
   "source": [
    "from sklearn.linear_model import LinearRegression\n",
    "from sklearn.metrics import r2_score\n",
    "\n",
    "\n",
    "# creating the model\n",
    "model = LinearRegression()\n",
    "\n",
    "# feeding the training data to the model\n",
    "model.fit(x_train, y_train)\n",
    "\n",
    "# predicting the test set results\n",
    "y_pred = model.predict(x_test)\n",
    "\n",
    "# calculating the mean squared error\n",
    "mse = np.mean((y_test - y_pred)**2, axis = None)\n",
    "print(\"MSE :\", mse)\n",
    "\n",
    "# Calculating the root mean squared error\n",
    "rmse = np.sqrt(mse)\n",
    "print(\"RMSE :\", rmse)\n",
    "\n",
    "# Calculating the r2 score\n",
    "r2 = r2_score(y_test, y_pred)\n",
    "print(\"r2 score :\", r2)\n"
   ]
  },
  {
   "cell_type": "code",
   "execution_count": 33,
   "metadata": {},
   "outputs": [
    {
     "data": {
      "text/plain": [
       "4024    0.0\n",
       "1316    0.0\n",
       "3463    0.0\n",
       "3810    0.0\n",
       "3229    0.0\n",
       "       ... \n",
       "3815    0.0\n",
       "258     0.0\n",
       "4166    0.0\n",
       "1466    0.0\n",
       "2816    0.0\n",
       "Name: BPMeds, Length: 848, dtype: float64"
      ]
     },
     "execution_count": 33,
     "metadata": {},
     "output_type": "execute_result"
    }
   ],
   "source": [
    "y_test"
   ]
  },
  {
   "cell_type": "code",
   "execution_count": 34,
   "metadata": {},
   "outputs": [
    {
     "data": {
      "text/plain": [
       "array([ 1.20080927e-02,  4.88760230e-02,  4.10129681e-02,  2.77596544e-02,\n",
       "        4.88760230e-02, -3.04220356e-04,  4.76091136e-02,  8.47720269e-04,\n",
       "        2.24606736e-02,  5.61847262e-02,  5.67645298e-02,  5.85443148e-02,\n",
       "        2.13344675e-02,  6.57635778e-03,  4.10180046e-03, -9.40364676e-03,\n",
       "        5.87167679e-02,  4.53917228e-02,  2.16763845e-02,  7.06871639e-02,\n",
       "       -1.11801601e-02,  4.20529292e-02,  5.36870983e-03,  5.85431929e-03,\n",
       "        2.48202622e-02,  6.10188721e-02,  5.90299242e-02,  3.10890044e-02,\n",
       "        1.37715868e-02,  1.20655771e-02,  7.07446483e-02,  2.02417883e-02,\n",
       "        1.50370016e-02,  5.27851766e-02,  2.21907547e-02,  4.04728635e-02,\n",
       "        2.83300143e-02,  4.88760230e-02,  1.42557017e-02,  1.74540746e-02,\n",
       "        4.81435825e-03,  1.50370016e-02, -1.02009551e-02,  3.00250488e-02,\n",
       "       -1.56935268e-03,  2.67081895e-03,  3.03710841e-02,  6.36916170e-02,\n",
       "        1.53501580e-02,  5.88574711e-02,  1.32463176e-02,  1.62446496e-02,\n",
       "        3.01083439e-02,  1.05160121e-02,  3.24421218e-02,  2.71798508e-02,\n",
       "        7.68831701e-03,  4.04153791e-02,  9.59251436e-03,  6.09613877e-02,\n",
       "        7.84326715e-03,  6.36573948e-03,  3.96933406e-02,  2.62548585e-02,\n",
       "        9.62689013e-04,  2.08503526e-02,  2.07368784e-02,  1.90898476e-02,\n",
       "        1.57892584e-02,  3.93801843e-02,  6.61661743e-02,  3.83369778e-03,\n",
       "        6.59105024e-02,  3.28113441e-02,  6.57955336e-02,  1.98711475e-02,\n",
       "        1.44826501e-02,  1.26199287e-02,  4.23989645e-02,  9.07814417e-03,\n",
       "       -1.51186831e-03,  5.85443148e-02,  6.09613877e-02,  2.80044273e-02,\n",
       "        6.82700909e-02,  4.26436318e-02,  2.10787955e-02,  5.37101689e-02,\n",
       "        3.93801843e-02,  3.92652155e-02,  7.15761874e-02,  2.47052934e-02,\n",
       "        1.02603401e-02,  1.30861873e-03, -2.66530352e-03,  1.27348974e-02,\n",
       "        4.97076677e-02,  1.77672309e-02,  3.92077312e-02,  4.49076079e-02,\n",
       "        4.89335073e-02,  4.40993614e-02,  2.07026867e-02,  4.30881240e-02,\n",
       "        6.40539925e-03,  4.41568458e-02,  4.41568458e-02,  7.06047266e-03,\n",
       "        3.43735852e-02,  6.34359450e-02,  2.67964577e-02,  2.47627778e-02,\n",
       "        2.57994672e-02,  6.82126066e-02,  2.79321075e-02,  1.54076424e-02,\n",
       "        3.71612989e-02,  5.00549102e-02,  3.72762677e-02, -8.43895553e-03,\n",
       "       -6.88399869e-03,  1.17236600e-02, -2.94973622e-03,  4.68870751e-02,\n",
       "        3.76967157e-05,  2.22882205e-02,  3.32227759e-03, -1.07426251e-03,\n",
       "        1.33038020e-02, -2.49434498e-03,  1.06884652e-02,  6.57635778e-03,\n",
       "        6.51887341e-03,  7.30467525e-02,  7.31042368e-02, -1.39689957e-03,\n",
       "        3.54102747e-02,  2.27738300e-02,  3.67906582e-02,  7.14612187e-02,\n",
       "        5.14655490e-02, -3.92894126e-03,  2.02417883e-02,  1.80695645e-02,\n",
       "       -2.43686061e-03,  6.57955336e-02,  8.98806828e-03,  5.61272418e-02,\n",
       "        2.97118925e-02,  8.47720269e-04,  2.95394393e-02, -1.00299965e-02,\n",
       "        1.27923818e-02,  1.84729023e-02, -1.72812154e-02,  1.87192069e-02,\n",
       "        5.25582282e-02, -7.72720290e-05,  2.07601711e-02,  9.24910271e-03,\n",
       "        2.13919518e-02,  1.87464360e-02,  6.45592098e-03,  4.07303973e-03,\n",
       "        8.93744094e-03, -9.03303979e-04,  2.74355227e-02,  5.65553669e-02,\n",
       "        5.61272418e-02,  4.47244118e-03,  1.13242586e-02,  1.27348974e-02,\n",
       "        3.96216464e-02,  1.22933627e-03,  1.38275766e-02, -4.19189100e-04,\n",
       "        3.75087232e-02,  3.92652155e-02,  6.33784607e-02,  1.37141025e-02,\n",
       "        5.61272418e-02,  5.85443148e-02,  1.60449303e-02,  2.85009729e-02,\n",
       "        3.71038145e-02,  6.57955336e-02,  2.86431707e-02,  3.47442260e-02,\n",
       "        1.26199287e-02, -1.48641424e-02,  5.37101689e-02,  3.00974449e-02,\n",
       "       -7.67040796e-03,  3.19565123e-02,  2.95969237e-02,  2.71223664e-02,\n",
       "        6.58530180e-02,  2.95969237e-02,  2.95969237e-02,  3.48591947e-02,\n",
       "        5.37676532e-02,  1.40832486e-02, -4.19189100e-04,  1.50944860e-02,\n",
       "        6.83275753e-02,  3.77138735e-02,  1.99788385e-03, -2.37937624e-03,\n",
       "        5.85443148e-02,  1.13530193e-02, -2.03745916e-03,  2.34958684e-02,\n",
       "        3.83114625e-02,  6.63877308e-02,  3.46867416e-02,  2.85856863e-02,\n",
       "        6.34934294e-02,  4.65739188e-02, -1.72812154e-02,  2.68171799e-03,\n",
       "        3.79408218e-02,  1.18946186e-02,  5.85443148e-02,  3.52393161e-02,\n",
       "        6.31915415e-03,  6.14469972e-02,  4.40418771e-02,  1.62873772e-03,\n",
       "        1.74221188e-03,  4.48734162e-02,  2.72948195e-02, -2.32338644e-03,\n",
       "        2.87581394e-02, -5.32663264e-04,  6.88951413e-03, -3.92894126e-03,\n",
       "        2.11635089e-02,  4.88760230e-02,  4.16248041e-02,  1.98711475e-02,\n",
       "        1.05160121e-02,  2.05536822e-03,  4.77513114e-02,  7.06296795e-02,\n",
       "        2.85871809e-02, -4.56950086e-03,  5.25582282e-02,  5.69354883e-02,\n",
       "       -7.95484065e-03,  1.18386288e-02,  2.50759342e-02,  5.61847262e-02,\n",
       "        1.14392273e-02,  6.46435930e-02,  4.87184262e-03,  4.64589500e-02,\n",
       "        4.89335073e-02,  5.43474568e-02,  2.71798508e-02,  7.31042368e-02,\n",
       "       -2.77877768e-03,  2.71223664e-02,  5.82743959e-02,  3.31641603e-02,\n",
       "        3.92077312e-02,  3.03134941e-02,  1.14105037e-02, -9.85903800e-03,\n",
       "        4.75687387e-03,  1.60736911e-02,  1.09551125e-02,  4.70744399e-02,\n",
       "        1.33038020e-02,  4.94107358e-02,  7.79958671e-02,  3.12886866e-02,\n",
       "        4.67721063e-02,  2.24606736e-02,  2.23457049e-02,  2.97118925e-02,\n",
       "        4.65739188e-02,  5.67987215e-02,  1.14105037e-02,  5.38251376e-02,\n",
       "        1.14679881e-02,  1.74540746e-02,  3.98450191e-02,  3.44885540e-02,\n",
       "        6.34359450e-02,  1.31055381e-02,  6.62811431e-02,  7.55787942e-02,\n",
       "        2.34958684e-02,  6.34934294e-02,  3.43735852e-02,  2.99675644e-02,\n",
       "        5.13505803e-02,  1.59027325e-02,  1.61871652e-02,  2.57926102e-02,\n",
       "        2.56052160e-02, -3.92894126e-03,  1.39985352e-02,  5.37101689e-02,\n",
       "        1.09769105e-02, -1.24470695e-02,  2.59704258e-02, -2.77877768e-03,\n",
       "       -2.80927690e-04, -3.92894126e-03,  5.14080647e-02,  4.82641870e-02,\n",
       "       -3.81397252e-03,  2.05768189e-02,  3.19565123e-02, -4.82517283e-03,\n",
       "        1.10918793e-02,  5.37101689e-02,  5.40233252e-02,  4.02949423e-02,\n",
       "       -2.25147627e-02,  1.57426730e-02,  6.17354425e-02,  3.78317605e-03,\n",
       "        4.47244118e-03, -6.34601421e-03,  6.83202975e-03,  8.51896016e-02,\n",
       "        4.16822885e-02,  2.91000565e-02,  6.33784607e-02,  2.71798508e-02,\n",
       "       -1.12376445e-02, -1.51186831e-03,  1.40832486e-02,  5.16062523e-02,\n",
       "        2.71798508e-02,  2.34958684e-02, -2.83476747e-03,  4.45274865e-02,\n",
       "        2.06793941e-02,  2.39728529e-03,  3.26479322e-03,  5.40233252e-02,\n",
       "        2.15054260e-02, -1.00874809e-02,  1.50944860e-02,  8.09893912e-03,\n",
       "        5.13505803e-02,  4.68295907e-02,  4.05575769e-02,  6.59105024e-02,\n",
       "        3.44885540e-02, -1.48641424e-02,  1.98711475e-02,  5.62422106e-02,\n",
       "        1.37591932e-02,  4.15928483e-03,  6.14327873e-02,  4.68295907e-02,\n",
       "        4.55051970e-02,  3.69056269e-02,  1.58110564e-02,  4.30881240e-02,\n",
       "        2.58500946e-02,  4.88760230e-02,  1.21790513e-02,  1.99286319e-02,\n",
       "        5.97519627e-02, -7.61292358e-03,  1.89748789e-02,  1.09769105e-02,\n",
       "        5.13505803e-02,  3.43735852e-02,  9.51810881e-05,  3.92077312e-02,\n",
       "        4.26847862e-02,  1.34281752e-02,  1.29905694e-02,  7.06871639e-02,\n",
       "        3.26479322e-03,  4.30881240e-02,  4.35896701e-03,  3.23271530e-02,\n",
       "        2.09078370e-02,  5.39673281e-04,  6.57955336e-02, -6.40349859e-03,\n",
       "        3.34773166e-02, -7.15603777e-03,  4.06710511e-02,  2.13632282e-02,\n",
       "        1.77672309e-02,  8.99343074e-03,  5.40233252e-02,  3.26479322e-03,\n",
       "        4.69445595e-02,  7.31617212e-02,  3.79408218e-02,  3.32227759e-03,\n",
       "        2.71223664e-02,  3.86246559e-02, -6.13028655e-03,  1.77672309e-02,\n",
       "        3.67906582e-02,  1.54076424e-02,  3.77302035e-02,  2.66254992e-02,\n",
       "       -1.13025231e-03, -3.87145689e-03,  7.34639994e-03,  2.51909029e-02,\n",
       "        2.24031892e-02,  4.40418771e-02,  3.90403874e-02,  3.34198322e-02,\n",
       "        4.89335073e-02,  5.69012966e-02, -3.61704728e-04,  1.02028557e-02,\n",
       "        9.59101978e-03,  3.75988339e-03,  5.20671507e-02,  3.92652155e-02,\n",
       "        5.61272418e-02,  1.49271422e-02,  3.78317605e-03,  6.51887341e-03,\n",
       "       -8.45819607e-04, -2.72129331e-03,  4.04153791e-02,  2.61686134e-02,\n",
       "        1.50370016e-02, -2.83626205e-03,  5.49178168e-02,  2.96544081e-02,\n",
       "        4.89335073e-02,  1.63308576e-02,  1.29905694e-02,  6.82700909e-02,\n",
       "        2.34958684e-02, -3.92894126e-03,  3.52054144e-03, -3.60480963e-03,\n",
       "       -5.25333500e-03,  1.87192069e-02,  4.84366401e-02,  4.52782487e-02,\n",
       "        2.68171799e-03,  4.16248041e-02,  5.38251376e-02,  1.58452481e-02,\n",
       "        3.20714810e-02,  3.27538598e-02,  4.50210821e-02,  3.34773166e-02,\n",
       "        6.11338408e-02,  6.15877767e-02,  7.56362785e-02,  4.40418771e-02,\n",
       "        4.64589500e-02, -4.56950086e-03, -6.34601421e-03,  6.82126066e-02,\n",
       "       -9.74556384e-03,  6.57635778e-03,  4.40993614e-02,  7.06296795e-02,\n",
       "        1.99788385e-03,  4.65164344e-02,  6.13895128e-02, -8.71981262e-03,\n",
       "        4.40993614e-02,  6.25287773e-02,  4.65739188e-02,  6.38640701e-02,\n",
       "        5.42619420e-03,  3.24421218e-02,  2.34958684e-02, -1.24470695e-02,\n",
       "        1.76265277e-02, -3.92894126e-03,  2.87581394e-02,  4.06710511e-02,\n",
       "        2.10787955e-02,  3.93084192e-03,  2.48777466e-02,  5.62422106e-02,\n",
       "        1.31204498e-02,  1.82980074e-02,  9.30658708e-03, -3.61704728e-04,\n",
       "        2.72948195e-02,  1.65578059e-02,  7.06296795e-02, -7.67040796e-03,\n",
       "        1.89173945e-02,  2.97118925e-02,  4.16248041e-02,  4.68870751e-02,\n",
       "        1.50944860e-02,  4.88760230e-02,  4.41568458e-02,  6.33784607e-02,\n",
       "        1.65578059e-02,  5.42619420e-03,  3.23271530e-02,  6.94777389e-02,\n",
       "        4.19379604e-02,  5.87167679e-02,  1.82063313e-02,  4.16248041e-02,\n",
       "        3.22696686e-02,  1.82692532e-03,  1.53501580e-02,  6.33784607e-02,\n",
       "        3.21289654e-02,  1.99431457e-02,  4.89335073e-02,  1.78821997e-02,\n",
       "       -1.00874809e-02,  4.43550334e-02,  4.19379604e-02, -5.90147636e-04,\n",
       "        1.99286319e-02,  2.62260977e-02,  7.84326715e-03,  3.68481426e-02,\n",
       "        4.93616324e-02,  8.15642350e-03,  3.32227759e-03,  2.95394393e-02,\n",
       "        3.08045717e-02,  6.57635778e-03,  5.38251376e-02, -9.24358727e-03,\n",
       "        2.78964212e-02,  7.42544004e-02,  6.82126066e-02,  4.41495680e-03,\n",
       "        7.56362785e-02,  6.38640701e-02,  5.13505803e-02,  2.64645042e-04,\n",
       "        6.62236587e-02,  3.06660562e-03, -1.97876567e-05,  2.23457049e-02,\n",
       "        6.82126066e-02,  1.75690433e-02,  6.82126066e-02,  1.50944860e-02,\n",
       "        2.95394393e-02,  2.30979616e-02,  8.41217171e-03,  1.77672309e-02,\n",
       "        1.08183456e-02,  4.06710511e-02,  6.57955336e-02,  1.29330850e-02,\n",
       "        2.63410665e-02,  1.74221188e-03,  2.71223664e-02,  2.53207833e-02,\n",
       "        6.02360776e-02,  3.74745315e-02,  8.03554557e-02,  3.10027593e-02,\n",
       "        3.89378123e-02,  8.15642350e-03,  1.39425454e-02,  4.65164344e-02,\n",
       "        2.26013768e-02,  4.01581755e-02,  4.02553196e-02,  3.79408218e-02,\n",
       "       -1.95273298e-02,  6.09613877e-02,  2.59704258e-02,  7.08021326e-02,\n",
       "        4.91891793e-02,  2.32689201e-02,  5.13505803e-02,  5.37101689e-02,\n",
       "        4.88760230e-02,  1.02603401e-02,  2.47052934e-02,  1.05734964e-02,\n",
       "        8.21390787e-03,  2.16763845e-02,  8.15642350e-03,  2.95969237e-02,\n",
       "        4.90484761e-02,  1.83198055e-02,  4.58740992e-03,  4.88760230e-02,\n",
       "        7.31617212e-02,  3.06896029e-02,  6.33784607e-02,  4.40418771e-02,\n",
       "        1.10165332e-02,  1.50370016e-02,  4.93616324e-02,  2.17051453e-02,\n",
       "        4.58471141e-02,  2.99100801e-02,  1.34677979e-02,  5.56878590e-02,\n",
       "        1.31055381e-02,  2.99100801e-02,  7.78808984e-02,  2.02417883e-02,\n",
       "       -8.74580335e-04,  4.22279004e-02,  7.26019193e-03,  5.12930959e-02,\n",
       "        1.36566181e-02,  2.47627778e-02,  5.61847262e-02,  2.75504915e-02,\n",
       "        2.74930071e-02,  4.64589500e-02,  2.39239935e-02,  4.07285354e-02,\n",
       "        4.69445595e-02, -7.61292358e-03,  1.41982174e-02,  6.18776403e-02,\n",
       "       -7.67040796e-03,  2.24606736e-02,  1.58110564e-02,  2.06343033e-02,\n",
       "        4.64589500e-02,  4.64589500e-02,  5.24952758e-02,  7.31617212e-02,\n",
       "        5.62422106e-02,  1.49271422e-02,  7.80533515e-02,  4.31456084e-02,\n",
       "        7.54638254e-02,  4.76091136e-02,  4.92466637e-02, -3.61704728e-04,\n",
       "       -3.12069475e-03,  7.31042368e-02,  2.71223664e-02,  6.20024901e-03,\n",
       "        1.99788385e-03,  2.75504915e-02,  5.16637366e-02,  5.42619420e-03,\n",
       "        1.61871652e-02,  3.76531437e-03,  7.40834419e-02,  5.41957783e-02,\n",
       "        3.38192337e-02,  6.33784607e-02,  4.67721063e-02, -2.83626205e-03,\n",
       "        6.09613877e-02,  3.64640923e-03,  2.51909029e-02, -7.72720290e-05,\n",
       "        1.86329618e-02,  2.52058146e-02,  5.13505803e-02,  1.63021340e-02,\n",
       "        1.10343949e-02,  3.69631113e-02,  1.99788385e-03,  6.82700909e-02,\n",
       "        4.42143302e-02,  1.41407330e-02,  6.22840044e-02,  4.16248041e-02,\n",
       "        2.22882205e-02,  5.73935054e-03,  1.06309808e-02,  3.04284629e-02,\n",
       "        4.43550334e-02, -8.76308717e-03,  2.35533528e-02,  6.34791488e-03,\n",
       "        1.51519704e-02,  8.76066746e-02,  4.19954448e-02,  3.10315200e-02,\n",
       "        5.27564158e-02,  1.38275766e-02, -9.74556384e-03,  3.24912252e-02,\n",
       "        2.72948195e-02,  4.20529292e-02, -7.27100651e-03, -8.76308717e-03,\n",
       "        6.61086900e-02,  1.11820608e-02,  5.49753012e-02,  2.94870643e-02,\n",
       "        3.31066759e-02,  2.71223664e-02,  3.75429149e-02,  1.52094548e-02,\n",
       "        2.58554570e-02,  2.38090248e-02,  5.64403982e-02,  3.19565123e-02,\n",
       "        4.40993614e-02,  2.10787955e-02,  4.58740992e-03,  1.50370016e-02,\n",
       "        3.92077312e-02,  2.27738300e-02,  1.37700923e-02,  2.08681772e-02,\n",
       "        5.90299242e-02,  7.30467525e-02,  7.30467525e-02,  2.34958684e-02,\n",
       "        8.55994319e-03,  5.00261865e-02, -2.48230565e-04,  2.95969237e-02,\n",
       "        8.03554557e-02,  6.82126066e-02,  4.64589500e-02,  3.43735852e-02,\n",
       "        2.17913533e-02,  9.05091511e-03, -2.83626205e-03,  2.40934575e-02,\n",
       "        3.06390441e-02,  2.74355227e-02,  1.06884652e-02,  4.16822885e-02,\n",
       "        3.34198322e-02,  3.87683483e-02,  3.26978700e-02,  5.03393429e-02,\n",
       "        1.53501580e-02,  1.89173945e-02,  2.90425721e-02,  4.40993614e-02,\n",
       "        3.19041373e-02,  3.27647588e-02,  7.78578278e-03,  5.37101689e-02,\n",
       "        4.17397728e-02,  5.19878683e-02,  1.77672309e-02,  3.32776344e-02,\n",
       "        3.07470873e-02,  1.61311754e-02,  2.83300143e-02, -5.19585063e-03,\n",
       "        9.93443143e-03, -8.76308717e-03,  4.55051970e-02,  5.17787054e-02,\n",
       "        4.90484761e-02,  6.00599780e-03,  5.64978825e-02,  6.83202975e-03,\n",
       "        5.61272418e-02,  4.68870751e-02,  4.41495680e-03, -2.49434498e-03,\n",
       "        3.02916961e-02,  1.41407330e-02,  5.86017991e-02,  6.57955336e-02,\n",
       "        1.40272588e-02,  1.98711475e-02,  2.06793941e-02,  1.26774131e-02,\n",
       "        3.20714810e-02, -2.75001695e-03,  2.93270048e-02,  3.34198322e-02,\n",
       "        5.40233252e-02,  4.78211894e-02,  7.06871639e-02,  1.27348974e-02,\n",
       "        3.72187833e-02,  4.58758748e-02,  2.95969237e-02,  6.11006751e-03,\n",
       "        7.78808984e-02,  2.41222182e-02,  1.79887874e-02,  1.42557017e-02,\n",
       "       -1.00874809e-02, -5.19585063e-03,  5.64403982e-02,  1.74540746e-02,\n",
       "        1.59423552e-02,  4.88760230e-02,  4.21253253e-02,  1.93167960e-02,\n",
       "        1.34856596e-02,  5.13505803e-02,  4.21104136e-02,  6.17696342e-02,\n",
       "        5.51734888e-02,  4.40418771e-02,  1.27348974e-02,  1.14679881e-02,\n",
       "        7.06296795e-02,  3.39342024e-02,  6.33784607e-02,  7.06296795e-02,\n",
       "        7.31042368e-02, -6.40349859e-03, -1.97876567e-05,  3.00912125e-03,\n",
       "        2.72373351e-02,  4.68295907e-02,  4.79797543e-02, -4.73896482e-03,\n",
       "        6.59105024e-02,  5.20344536e-02,  3.96933406e-02,  1.26774131e-02,\n",
       "        6.33784607e-02,  1.99861163e-02,  5.65553669e-02,  4.91891793e-02,\n",
       "        2.24031892e-02,  7.00448287e-03,  2.11526099e-02,  4.11854213e-02,\n",
       "        3.07470873e-02,  3.79983062e-02,  5.13505803e-02,  4.64589500e-02,\n",
       "        5.86017991e-02,  5.61272418e-02,  2.47052934e-02,  4.55051970e-02,\n",
       "       -1.48641424e-02, -2.09494354e-03,  4.47148513e-02,  4.67721063e-02,\n",
       "        1.74540746e-02,  4.69445595e-02,  5.17787054e-02,  1.98711475e-02])"
      ]
     },
     "execution_count": 34,
     "metadata": {},
     "output_type": "execute_result"
    }
   ],
   "source": [
    "y_pred"
   ]
  },
  {
   "cell_type": "markdown",
   "metadata": {},
   "source": [
    "# Other Techniques And The The Root Mean Square"
   ]
  },
  {
   "cell_type": "markdown",
   "metadata": {},
   "source": [
    "# Support Vector Machine"
   ]
  },
  {
   "cell_type": "code",
   "execution_count": 35,
   "metadata": {},
   "outputs": [
    {
     "name": "stdout",
     "output_type": "stream",
     "text": [
      "MSE : 0.03530345227939537\n",
      "RMSE : 0.187892129370539\n",
      "r2 score : -0.14543193189443016\n"
     ]
    }
   ],
   "source": [
    "from sklearn.svm import SVR\n",
    "\n",
    "# creating the model\n",
    "model = SVR()\n",
    "\n",
    "# feeding the training data to the model\n",
    "model.fit(x_train, y_train)\n",
    "\n",
    "# predicting the test set results\n",
    "y_pred = model.predict(x_test)\n",
    "\n",
    "# calculating the mean squared error\n",
    "mse = np.mean((y_test - y_pred)**2, axis = None)\n",
    "print(\"MSE :\", mse)\n",
    "\n",
    "# Calculating the root mean squared error\n",
    "rmse = np.sqrt(mse)\n",
    "print(\"RMSE :\", rmse)\n",
    "\n",
    "# Calculating the r2 score\n",
    "r2 = r2_score(y_test, y_pred)\n",
    "print(\"r2 score :\", r2)\n"
   ]
  },
  {
   "cell_type": "markdown",
   "metadata": {},
   "source": [
    "# Random Forest Technique"
   ]
  },
  {
   "cell_type": "code",
   "execution_count": 36,
   "metadata": {},
   "outputs": [
    {
     "name": "stdout",
     "output_type": "stream",
     "text": [
      "MSE : 0.030010672716459668\n",
      "RMSE : 0.17323588749580632\n",
      "r2 score : 0.026294013542445316\n"
     ]
    }
   ],
   "source": [
    "from sklearn.ensemble import RandomForestRegressor\n",
    "# creating the model\n",
    "model = RandomForestRegressor(n_estimators = 40, max_depth = 4, n_jobs = -1)\n",
    "\n",
    "# feeding the training data to the model\n",
    "model.fit(x_train, y_train)\n",
    "\n",
    "# predicting the test set results\n",
    "y_pred = model.predict(x_test)\n",
    "\n",
    "# calculating the mean squared error\n",
    "mse = np.mean((y_test - y_pred)**2, axis = None)\n",
    "print(\"MSE :\", mse)\n",
    "\n",
    "# Calculating the root mean squared error\n",
    "rmse = np.sqrt(mse)\n",
    "print(\"RMSE :\", rmse)\n",
    "\n",
    "# Calculating the r2 score\n",
    "r2 = r2_score(y_test, y_pred)\n",
    "print(\"r2 score :\", r2)\n"
   ]
  },
  {
   "cell_type": "code",
   "execution_count": 37,
   "metadata": {},
   "outputs": [
    {
     "name": "stdout",
     "output_type": "stream",
     "text": [
      "[0.00969254 0.03028623 0.01803066 0.0393319  0.03028623 0.01316455\n",
      " 0.08182878 0.00929017 0.01248469 0.07506481 0.06172403 0.07520962\n",
      " 0.01257855 0.00335684 0.00241163 0.0038504  0.0833788  0.03254053\n",
      " 0.01257855 0.05782797 0.00360852 0.05821821 0.00256456 0.00793025\n",
      " 0.01558468 0.07520962 0.06129827 0.05176845 0.00637856 0.0120581\n",
      " 0.06318641 0.01370509 0.0079834  0.0731929  0.12257932 0.03275634\n",
      " 0.01173141 0.03028623 0.01262383 0.00691851 0.01155328 0.0079834\n",
      " 0.00350254 0.03294191 0.00440499 0.01329809 0.03990529 0.06337051\n",
      " 0.01189745 0.06604263 0.00924621 0.01108679 0.02781533 0.01099183\n",
      " 0.02993588 0.01406698 0.01467323 0.0361023  0.01241643 0.06813888\n",
      " 0.00350976 0.01176203 0.0296057  0.01252237 0.00634872 0.01057505\n",
      " 0.01300652 0.01234487 0.00962486 0.01355662 0.08134848 0.00986118\n",
      " 0.06470949 0.04371175 0.06590743 0.01289542 0.01177914 0.00388156\n",
      " 0.02664357 0.01110652 0.00360852 0.07520962 0.06813888 0.0128776\n",
      " 0.06590743 0.02886486 0.01091301 0.07506481 0.01355662 0.03192223\n",
      " 0.06043498 0.01188529 0.00350976 0.00254576 0.00791134 0.00624996\n",
      " 0.07662033 0.01161849 0.03113636 0.02808323 0.03172588 0.03219014\n",
      " 0.01200506 0.02051357 0.00335684 0.03079137 0.03079137 0.01108116\n",
      " 0.0443713  0.06813888 0.01440449 0.01327929 0.01108575 0.05780151\n",
      " 0.01044916 0.0135191  0.01801673 0.02951555 0.0296057  0.00349097\n",
      " 0.01382679 0.0115461  0.01234799 0.05337056 0.0157532  0.01110754\n",
      " 0.0118075  0.00248208 0.01198209 0.01036409 0.0119335  0.00335684\n",
      " 0.00372863 0.09287473 0.05763443 0.00604574 0.02907841 0.01390728\n",
      " 0.03113636 0.09306784 0.03502004 0.00360852 0.01370509 0.01278765\n",
      " 0.01420263 0.06590743 0.01237419 0.07506481 0.01349994 0.00929017\n",
      " 0.01342332 0.00350254 0.00594697 0.01602245 0.00350254 0.01101461\n",
      " 0.07952748 0.01078076 0.01063082 0.0094595  0.0142592  0.01818398\n",
      " 0.00964593 0.01064739 0.00526429 0.00241163 0.01813298 0.05166588\n",
      " 0.07506481 0.01104129 0.01127405 0.00624996 0.02000369 0.00349097\n",
      " 0.00872937 0.01026876 0.02604466 0.03192223 0.06590743 0.01231969\n",
      " 0.07506481 0.07520962 0.03454536 0.01173141 0.05858949 0.06590743\n",
      " 0.01224736 0.01801673 0.00388156 0.00350254 0.07506481 0.04140601\n",
      " 0.00429901 0.01314435 0.01426369 0.012082   0.06590743 0.01426369\n",
      " 0.01426369 0.02762039 0.07891169 0.03036873 0.01026876 0.00482676\n",
      " 0.06318641 0.02556544 0.00852395 0.0112706  0.07520962 0.00655762\n",
      " 0.0112706  0.01110973 0.01784726 0.06826511 0.01657708 0.0108077\n",
      " 0.07178023 0.03105929 0.00350254 0.00903595 0.03466265 0.0115461\n",
      " 0.07520962 0.02780035 0.00986118 0.05362223 0.03189669 0.00556728\n",
      " 0.00335684 0.02808323 0.01528781 0.01036409 0.02147627 0.0112831\n",
      " 0.01108116 0.00360852 0.0172892  0.03028623 0.03075049 0.01289542\n",
      " 0.01099183 0.01278609 0.03220861 0.05967204 0.02567255 0.0116853\n",
      " 0.07952748 0.0663258  0.00357299 0.01324384 0.02281967 0.07506481\n",
      " 0.01275564 0.06796565 0.01322591 0.03028623 0.03172588 0.06395548\n",
      " 0.01406698 0.05763443 0.01149356 0.012082   0.05425021 0.0345306\n",
      " 0.03113636 0.02733611 0.00979426 0.00350254 0.00906588 0.01273381\n",
      " 0.00681568 0.02764211 0.01198209 0.07048556 0.07907466 0.01340595\n",
      " 0.05316526 0.01248469 0.01506717 0.01349994 0.03105929 0.05992286\n",
      " 0.00979426 0.03136733 0.00668154 0.00691851 0.02664357 0.01459739\n",
      " 0.06813888 0.01627109 0.0695441  0.05491342 0.01110973 0.07178023\n",
      " 0.0443713  0.02078962 0.03172588 0.0131803  0.00795358 0.0128776\n",
      " 0.0155597  0.00360852 0.00872937 0.07506481 0.00692076 0.00350254\n",
      " 0.0099531  0.01149356 0.00729452 0.00360852 0.03136733 0.01613476\n",
      " 0.00604574 0.0104993  0.01314435 0.00499547 0.00681568 0.07506481\n",
      " 0.04475439 0.03224057 0.00228221 0.00952485 0.06314963 0.00349097\n",
      " 0.01104129 0.00360852 0.00855388 0.67679067 0.03192223 0.02147627\n",
      " 0.06590743 0.01406698 0.00231774 0.00360852 0.03036873 0.05245688\n",
      " 0.01406698 0.01110973 0.00541    0.0732549  0.01102154 0.01329809\n",
      " 0.00822528 0.04475439 0.01257855 0.00221176 0.00482676 0.0109619\n",
      " 0.03172588 0.05581298 0.03177133 0.06470949 0.01459739 0.00350254\n",
      " 0.01289542 0.07661039 0.00872937 0.00335684 0.04020453 0.05581298\n",
      " 0.0213908  0.01431843 0.00904563 0.02051357 0.01592771 0.03028623\n",
      " 0.00969254 0.00909026 0.07082072 0.00350254 0.01873921 0.00692076\n",
      " 0.03172588 0.0443713  0.0127118  0.03113636 0.02873684 0.01100855\n",
      " 0.0135191  0.05782797 0.00822528 0.02051357 0.01384656 0.01962719\n",
      " 0.01256004 0.03023043 0.06590743 0.00231774 0.01742146 0.0086724\n",
      " 0.02122195 0.00944003 0.01161849 0.00467383 0.04475439 0.00822528\n",
      " 0.06408464 0.05510695 0.03466265 0.0118075  0.012082   0.03466265\n",
      " 0.0274848  0.01161849 0.03113636 0.0135191  0.02878636 0.01440449\n",
      " 0.00570141 0.00634872 0.01467323 0.01362831 0.0096226  0.03189669\n",
      " 0.02000369 0.01872675 0.03172588 0.0663258  0.01042867 0.00256456\n",
      " 0.0099715  0.00248208 0.07595062 0.03192223 0.07506481 0.06107951\n",
      " 0.00349097 0.00372863 0.00335684 0.0075975  0.0361023  0.0108077\n",
      " 0.0079834  0.00791134 0.07785773 0.01412004 0.03172588 0.01245878\n",
      " 0.0135191  0.06590743 0.01110973 0.00360852 0.00269946 0.00349097\n",
      " 0.00897623 0.01101461 0.0176258  0.02779916 0.00903595 0.03075049\n",
      " 0.03136733 0.01004709 0.01369675 0.02860121 0.08357554 0.01742146\n",
      " 0.07953192 0.06260126 0.06167517 0.03189669 0.03028623 0.0116853\n",
      " 0.00360852 0.05780151 0.0038504  0.00335684 0.03219014 0.05967204\n",
      " 0.00852395 0.03333634 0.04475541 0.0127913  0.03219014 0.06976554\n",
      " 0.03105929 0.0543878  0.00350976 0.02993588 0.01110973 0.00350254\n",
      " 0.00594697 0.00360852 0.02147627 0.02122195 0.01091301 0.00241163\n",
      " 0.01028115 0.07661039 0.01120246 0.01028341 0.01108116 0.01042867\n",
      " 0.01528781 0.03142134 0.05967204 0.00429901 0.01347333 0.01349994\n",
      " 0.03075049 0.05337056 0.00482676 0.03028623 0.03079137 0.06590743\n",
      " 0.03142134 0.00350976 0.01962719 0.06470427 0.05374185 0.0833788\n",
      " 0.01263395 0.03075049 0.01657708 0.01017098 0.01189745 0.06590743\n",
      " 0.01382318 0.05012908 0.03172588 0.01420414 0.00221176 0.05666858\n",
      " 0.05374185 0.01191578 0.00909026 0.01385782 0.00350976 0.04542391\n",
      " 0.06408464 0.01605045 0.0118075  0.01342332 0.01057478 0.00335684\n",
      " 0.03136733 0.00869746 0.03885268 0.12969551 0.05780151 0.00855388\n",
      " 0.06167517 0.0543878  0.03172588 0.01078076 0.09085301 0.00624996\n",
      " 0.01288142 0.01506717 0.05780151 0.00736423 0.05780151 0.00482676\n",
      " 0.01342332 0.01054921 0.00496166 0.01161849 0.00734317 0.02122195\n",
      " 0.06590743 0.01099183 0.02379175 0.00335684 0.012082   0.01089972\n",
      " 0.03672024 0.02604466 0.15812105 0.01827705 0.01655307 0.01605045\n",
      " 0.00812274 0.03333634 0.0220338  0.03137441 0.02684189 0.03466265\n",
      " 0.00350254 0.06813888 0.0099531  0.06975463 0.05245688 0.01133542\n",
      " 0.03172588 0.07506481 0.03028623 0.00350976 0.01188529 0.01347923\n",
      " 0.01127495 0.01257855 0.01605045 0.01426369 0.03387384 0.01221884\n",
      " 0.01336375 0.03028623 0.05510695 0.03374473 0.06590743 0.03189669\n",
      " 0.01048784 0.0079834  0.06408464 0.00944003 0.0181995  0.01957264\n",
      " 0.03349274 0.01646474 0.01627109 0.01957264 0.13299078 0.01370509\n",
      " 0.01079181 0.02664357 0.00499547 0.07891169 0.00958381 0.01327929\n",
      " 0.07506481 0.02379565 0.01981364 0.03028623 0.02827176 0.01888877\n",
      " 0.06408464 0.00350254 0.01164145 0.01146175 0.00429901 0.01248469\n",
      " 0.00904563 0.01248428 0.03028623 0.03028623 0.0266381  0.05510695\n",
      " 0.07661039 0.06107951 0.06148164 0.02036636 0.09834938 0.08182878\n",
      " 0.05230967 0.01042867 0.01279448 0.05763443 0.012082   0.00349097\n",
      " 0.00852395 0.02379565 0.05160129 0.00350976 0.00795358 0.00986118\n",
      " 0.12924789 0.06129827 0.01418572 0.06590743 0.05316526 0.00791134\n",
      " 0.06813888 0.00349097 0.01362831 0.01078076 0.0208091  0.01145139\n",
      " 0.03172588 0.00926171 0.01015741 0.01383558 0.00852395 0.06590743\n",
      " 0.0356804  0.01126714 0.06883712 0.03075049 0.01110754 0.01074261\n",
      " 0.01656796 0.01115245 0.05666858 0.00360852 0.0103764  0.00372863\n",
      " 0.00624996 0.57470733 0.05288626 0.03374473 0.09144429 0.00872937\n",
      " 0.0038504  0.0274937  0.01528781 0.05821821 0.00514118 0.00360852\n",
      " 0.05088245 0.00741206 0.0775042  0.04013568 0.03342309 0.012082\n",
      " 0.02604466 0.00594697 0.00999039 0.0140182  0.04758402 0.01314435\n",
      " 0.03219014 0.01091301 0.01336375 0.0079834  0.03113636 0.01390728\n",
      " 0.00891504 0.02116024 0.06129827 0.09287473 0.09287473 0.01110973\n",
      " 0.00798566 0.07980551 0.01026876 0.01426369 0.15812105 0.05780151\n",
      " 0.03028623 0.0443713  0.0191255  0.00556728 0.00791134 0.01241817\n",
      " 0.01496147 0.01813298 0.0119335  0.03192223 0.01872675 0.0222542\n",
      " 0.0107596  0.02558858 0.01189745 0.01347333 0.01424411 0.03219014\n",
      " 0.03929752 0.02701448 0.00256456 0.07506481 0.03079137 0.06750167\n",
      " 0.01161849 0.03342309 0.0463139  0.01011615 0.01173141 0.00558979\n",
      " 0.01292843 0.00360852 0.0213908  0.06480158 0.03387384 0.00386276\n",
      " 0.04392525 0.00855388 0.07506481 0.05337056 0.00855388 0.01036409\n",
      " 0.01136771 0.01126714 0.07506481 0.06590743 0.0127741  0.01289542\n",
      " 0.01102154 0.00350976 0.01369675 0.00499547 0.01224736 0.01872675\n",
      " 0.04475439 0.0339699  0.05782797 0.00624996 0.02169576 0.08353378\n",
      " 0.01426369 0.00608188 0.13299078 0.01078135 0.01019232 0.01262383\n",
      " 0.00221176 0.00558979 0.04758402 0.00691851 0.03454536 0.03028623\n",
      " 0.02766507 0.01873921 0.0100303  0.03172588 0.0296057  0.06314963\n",
      " 0.06537948 0.03189669 0.00624996 0.00668154 0.05967204 0.02131589\n",
      " 0.06590743 0.05967204 0.05763443 0.00231774 0.01288142 0.00350976\n",
      " 0.0137968  0.05581298 0.02053521 0.0086724  0.06470949 0.07563605\n",
      " 0.0296057  0.00350976 0.06590743 0.01182614 0.05166588 0.05245688\n",
      " 0.0096226  0.01416123 0.01896986 0.01838129 0.0463139  0.03447688\n",
      " 0.03172588 0.03028623 0.07506481 0.07506481 0.01188529 0.0213908\n",
      " 0.00350254 0.01420263 0.03129482 0.05316526 0.00691851 0.06408464\n",
      " 0.06480158 0.01289542]\n"
     ]
    }
   ],
   "source": [
    "print(y_pred)"
   ]
  },
  {
   "cell_type": "code",
   "execution_count": 38,
   "metadata": {
    "scrolled": true
   },
   "outputs": [
    {
     "name": "stdout",
     "output_type": "stream",
     "text": [
      "4024    0.0\n",
      "1316    0.0\n",
      "3463    0.0\n",
      "3810    0.0\n",
      "3229    0.0\n",
      "       ... \n",
      "3815    0.0\n",
      "258     0.0\n",
      "4166    0.0\n",
      "1466    0.0\n",
      "2816    0.0\n",
      "Name: BPMeds, Length: 848, dtype: float64\n"
     ]
    }
   ],
   "source": [
    "print(y_test)"
   ]
  },
  {
   "cell_type": "markdown",
   "metadata": {},
   "source": [
    "# Decision Tree"
   ]
  },
  {
   "cell_type": "code",
   "execution_count": 39,
   "metadata": {},
   "outputs": [
    {
     "name": "stdout",
     "output_type": "stream",
     "text": [
      "MSE : 0.0393201480427957\n",
      "RMSE : 0.19829308622036143\n",
      "r2 score : -0.27575492556916115\n"
     ]
    }
   ],
   "source": [
    "from sklearn.tree import DecisionTreeRegressor\n",
    "\n",
    "# creating the model\n",
    "model = DecisionTreeRegressor()\n",
    "\n",
    "# feeding the training data to the model\n",
    "model.fit(x_train, y_train)\n",
    "\n",
    "# predicting the test set results\n",
    "y_pred = model.predict(x_test)\n",
    "\n",
    "# calculating the mean squared error\n",
    "mse = np.mean((y_test - y_pred)**2, axis = None)\n",
    "print(\"MSE :\", mse)\n",
    "\n",
    "# Calculating the root mean squared error\n",
    "rmse = np.sqrt(mse)\n",
    "print(\"RMSE :\", rmse)\n",
    "\n",
    "# Calculating the r2 score\n",
    "r2 = r2_score(y_test, y_pred)\n",
    "print(\"r2 score :\", r2)\n"
   ]
  },
  {
   "cell_type": "code",
   "execution_count": 40,
   "metadata": {},
   "outputs": [
    {
     "data": {
      "text/plain": [
       "DecisionTreeRegressor(random_state=0)"
      ]
     },
     "execution_count": 40,
     "metadata": {},
     "output_type": "execute_result"
    }
   ],
   "source": [
    "from sklearn.tree import DecisionTreeRegressor  \n",
    "  \n",
    "# create a regressor object \n",
    "D_tree_regressor = DecisionTreeRegressor(random_state = 0)  \n",
    "  \n",
    "# fit the regressor with X and Y data \n",
    "D_tree_regressor.fit(x_train,y_train)"
   ]
  },
  {
   "cell_type": "code",
   "execution_count": 43,
   "metadata": {},
   "outputs": [],
   "source": [
    "x.replace([np.inf, -np.inf], np.nan, inplace=True)\n",
    "df.fillna(999, inplace=True)\n",
    "y_pred = D_tree_regressor.predict(x)\n",
    "y['Dtree'] = y_pred"
   ]
  },
  {
   "cell_type": "code",
   "execution_count": 42,
   "metadata": {},
   "outputs": [
    {
     "data": {
      "text/plain": [
       "0    0\n",
       "1    0\n",
       "2    0\n",
       "3    0\n",
       "4    0\n",
       "Name: BPMeds, dtype: object"
      ]
     },
     "execution_count": 42,
     "metadata": {},
     "output_type": "execute_result"
    }
   ],
   "source": [
    "y.head()"
   ]
  },
  {
   "cell_type": "markdown",
   "metadata": {},
   "source": [
    "# Conclusion: This Prediction has about 85% accuracy. We can see that the RMSE was smallest when i applied Linear Regression to the dataset. There was a slight change when i applied Support Vector Machine Technique as well as the Random Forest Technique.\n"
   ]
  }
 ],
 "metadata": {
  "kernelspec": {
   "display_name": "Python 3",
   "language": "python",
   "name": "python3"
  },
  "language_info": {
   "codemirror_mode": {
    "name": "ipython",
    "version": 3
   },
   "file_extension": ".py",
   "mimetype": "text/x-python",
   "name": "python",
   "nbconvert_exporter": "python",
   "pygments_lexer": "ipython3",
   "version": "3.8.3"
  }
 },
 "nbformat": 4,
 "nbformat_minor": 4
}
